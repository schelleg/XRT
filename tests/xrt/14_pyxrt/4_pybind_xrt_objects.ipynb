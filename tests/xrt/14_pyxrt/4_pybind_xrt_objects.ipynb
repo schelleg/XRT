{
 "cells": [
  {
   "cell_type": "markdown",
   "metadata": {},
   "source": [
    "```bash\n",
    "  auto device = xrt::device(0);\n",
    "  auto uuid = device.load_xclbin(xclbin_fnm);\n",
    "  auto simple = xrt::kernel(device, uuid.get(), \"simple\");\n",
    "  auto bo0 = xrt::bo(device, DATA_SIZE, XCL_BO_FLAGS_NONE, simple.group_id(0));\n",
    "  auto bo1 = xrt::bo(device, DATA_SIZE, XCL_BO_FLAGS_NONE, simple.group_id(1));\n",
    "  bo0.sync(XCL_BO_SYNC_BO_TO_DEVICE, DATA_SIZE, 0);\n",
    "  bo1.sync(XCL_BO_SYNC_BO_TO_DEVICE, DATA_SIZE, 0);\n",
    "\n",
    "  auto run = simple(bo0, bo1, 0x10);\n",
    "  run.wait();\n",
    "\n",
    "  bo0.sync(XCL_BO_SYNC_BO_FROM_DEVICE, DATA_SIZE, 0);\n",
    "```\n"
   ]
  },
  {
   "cell_type": "code",
   "execution_count": 1,
   "metadata": {},
   "outputs": [],
   "source": [
    "!cp /group/xlabs-co/grahams/XRTschelleg/tests/xrt/02_simple/kernel.hw_emu.xclbin ."
   ]
  },
  {
   "cell_type": "code",
   "execution_count": 2,
   "metadata": {},
   "outputs": [],
   "source": [
    "import pyxrt\n",
    "\n",
    "pyxrt.xclProbe()\n",
    "d = pyxrt.device(0)\n",
    "xclbin = './kernel.hw_emu.xclbin'\n",
    "uuid = d.load_xclbin(xclbin)\n",
    "simple = pyxrt.kernel(d, uuid.get(), \"simple\", False)\n",
    "\n",
    "bo0 = pyxrt.bo(d, 1024, pyxrt.XCL_BO_FLAGS_NONE, simple.group_id(0))\n",
    "bo1 = pyxrt.bo(d, 1024, pyxrt.XCL_BO_FLAGS_NONE, simple.group_id(1))\n",
    "\n",
    "bo0.sync(pyxrt.xclBOSyncDirection.XCL_BO_SYNC_BO_TO_DEVICE, 1024, 0)\n",
    "bo1.sync(pyxrt.xclBOSyncDirection.XCL_BO_SYNC_BO_TO_DEVICE, 1024, 0)\n",
    "run = simple(bo0, bo1, 0x10)\n",
    "run.wait()\n",
    "\n",
    "bo0.sync(pyxrt.xclBOSyncDirection.XCL_BO_SYNC_BO_FROM_DEVICE, 1024, 0)"
   ]
  },
  {
   "cell_type": "code",
   "execution_count": 3,
   "metadata": {},
   "outputs": [],
   "source": [
    "del bo0\n",
    "del bo1\n",
    "del d"
   ]
  }
 ],
 "metadata": {
  "kernelspec": {
   "display_name": "Python 3",
   "language": "python",
   "name": "python3"
  },
  "language_info": {
   "codemirror_mode": {
    "name": "ipython",
    "version": 3
   },
   "file_extension": ".py",
   "mimetype": "text/x-python",
   "name": "python",
   "nbconvert_exporter": "python",
   "pygments_lexer": "ipython3",
   "version": "3.6.7"
  }
 },
 "nbformat": 4,
 "nbformat_minor": 2
}

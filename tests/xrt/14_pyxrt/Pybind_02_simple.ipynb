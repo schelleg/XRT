{
 "cells": [
  {
   "cell_type": "markdown",
   "metadata": {},
   "source": [
    "# PyBind 02_simple\n",
    "\n",
    "This pybinding is against the main run function in the 02_simple main.cpp.\n",
    "\n",
    "Reference:\n",
    "https://github.com/Xilinx/XRT/blob/master/tests/xrt/02_simple/CMakeLists.txt"
   ]
  },
  {
   "cell_type": "raw",
   "metadata": {},
   "source": [
    "set(TESTNAME \"02_simple\")\n",
    "\n",
    "add_executable(02_simple main.cpp)\n",
    "target_link_libraries(02_simple PRIVATE ${xrt_core_LIBRARY} ${xrt_coreutil_LIBRARY})\n",
    "\n",
    "if (NOT WIN32)\n",
    "  target_link_libraries(02_simple PRIVATE ${uuid_LIBRARY} pthread)\n",
    "endif(NOT WIN32)\n",
    "\n",
    "install(TARGETS 02_simple\n",
    "  RUNTIME DESTINATION ${INSTALL_DIR}/${TESTNAME})"
   ]
  },
  {
   "cell_type": "code",
   "execution_count": 1,
   "metadata": {},
   "outputs": [],
   "source": [
    "import mainpy"
   ]
  },
  {
   "cell_type": "code",
   "execution_count": 3,
   "metadata": {},
   "outputs": [
    {
     "data": {
      "text/plain": [
       "0"
      ]
     },
     "execution_count": 3,
     "metadata": {},
     "output_type": "execute_result"
    }
   ],
   "source": [
    "xclbin = '/group/xlabs-co/grahams/XRT/tests/xrt/02_simple/kernel.hw_emu.xclbin'"
   ]
  },
  {
   "cell_type": "code",
   "execution_count": 4,
   "metadata": {},
   "outputs": [
    {
     "name": "stdout",
     "output_type": "stream",
     "text": [
      "Graham is here1!\n",
      "Graham is here2!\n",
      "Graham is here3!\n",
      "Graham is here4!\n",
      "5!\n",
      "6!\n",
      "7!\n",
      "Get the output data from the device\n",
      "8!\n",
      "INFO::[ Vitis-EM 22 ] [Time elapsed: 0 minute(s) 4 seconds, Emulation time: 0.0103042 ms]\n",
      "Data transfer between kernel(s) and global memory(s)\n",
      "simple_1:m_axi_gmem-DDR[1]          RD = 4.000 KB               WR = 4.000 KB        \n",
      "\n",
      "INFO: [HW-EM 06-0] Waiting for the simulator process to exit\n",
      "INFO: [HW-EM 06-1] All the simulator processes exited successfully\n"
     ]
    }
   ],
   "source": [
    "from wurlitzer import sys_pipes\n",
    "\n",
    "with sys_pipes():\n",
    "    mainpy.run_it(['-k', xclbin])"
   ]
  }
 ],
 "metadata": {
  "kernelspec": {
   "display_name": "Python 3",
   "language": "python",
   "name": "python3"
  },
  "language_info": {
   "codemirror_mode": {
    "name": "ipython",
    "version": 3
   },
   "file_extension": ".py",
   "mimetype": "text/x-python",
   "name": "python",
   "nbconvert_exporter": "python",
   "pygments_lexer": "ipython3",
   "version": "3.6.7"
  }
 },
 "nbformat": 4,
 "nbformat_minor": 2
}

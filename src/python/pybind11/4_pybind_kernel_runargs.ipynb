{
 "cells": [
  {
   "cell_type": "markdown",
   "metadata": {},
   "source": [
    "```\n",
    "kernel void simple(global int *restrict s1,\n",
    "                   global const int *s2,\n",
    "                   int foo)\n",
    "{\n",
    "    const int id = get_local_id(0);\n",
    "    s1[id] = s2[id] + id * foo;\n",
    "}\n",
    "\n",
    "\n",
    "```\n",
    "\n",
    "\n",
    "```bash\n",
    "  auto device = xrt::device(0);\n",
    "  auto uuid = device.load_xclbin(xclbin_fnm);\n",
    "  auto simple = xrt::kernel(device, uuid.get(), \"simple\");\n",
    "  auto bo0 = xrt::bo(device, DATA_SIZE, XCL_BO_FLAGS_NONE, simple.group_id(0));\n",
    "  auto bo1 = xrt::bo(device, DATA_SIZE, XCL_BO_FLAGS_NONE, simple.group_id(1));\n",
    "  bo0.sync(XCL_BO_SYNC_BO_TO_DEVICE, DATA_SIZE, 0);\n",
    "  bo1.sync(XCL_BO_SYNC_BO_TO_DEVICE, DATA_SIZE, 0);\n",
    "\n",
    "  auto run = simple(bo0, bo1, 0x10);\n",
    "  run.wait();\n",
    "\n",
    "  bo0.sync(XCL_BO_SYNC_BO_FROM_DEVICE, DATA_SIZE, 0);\n",
    "```\n"
   ]
  },
  {
   "cell_type": "code",
   "execution_count": null,
   "metadata": {},
   "outputs": [],
   "source": [
    "!cp /group/xlabs-co/grahams/XRTschelleg/tests/xrt/02_simple/kernel.hw_emu.xclbin ."
   ]
  },
  {
   "cell_type": "code",
   "execution_count": null,
   "metadata": {},
   "outputs": [],
   "source": [
    "import os\n",
    "os.environ[\"EMCONFIG_PATH\"] = \"/opt/xrtbind/XRTschelleg/tests/xrt\"\n",
    "os.environ['XCL_EMULATION_MODE'] = 'hw_emu'"
   ]
  },
  {
   "cell_type": "code",
   "execution_count": null,
   "metadata": {
    "scrolled": true
   },
   "outputs": [],
   "source": [
    "import numpy as np\n",
    "bo0_data = np.zeros(1024, np.dtype('>i4')) \n",
    "bo1_data = np.array([range(1024)], np.dtype('>i4'))\n",
    "\n",
    "data_size = bo1_data.nbytes\n",
    "data_size"
   ]
  },
  {
   "cell_type": "code",
   "execution_count": null,
   "metadata": {},
   "outputs": [],
   "source": [
    "import pyxrt\n",
    "\n",
    "pyxrt.xclProbe()\n",
    "d = pyxrt.device(0)\n",
    "\n",
    "xclbin = './kernel.hw_emu.xclbin'\n",
    "uuid = d.load_xclbin(xclbin)"
   ]
  },
  {
   "cell_type": "code",
   "execution_count": null,
   "metadata": {},
   "outputs": [],
   "source": [
    "simple = pyxrt.kernel(d, uuid.get(), \"simple\", False)"
   ]
  },
  {
   "cell_type": "code",
   "execution_count": null,
   "metadata": {},
   "outputs": [],
   "source": [
    "bo0 = pyxrt.bo(d, data_size, pyxrt.XCL_BO_FLAGS_NONE, simple.group_id(0))\n",
    "bo1 = pyxrt.bo(d, data_size, pyxrt.XCL_BO_FLAGS_NONE, simple.group_id(1))"
   ]
  },
  {
   "cell_type": "code",
   "execution_count": null,
   "metadata": {},
   "outputs": [],
   "source": [
    "# Running all binds - kernel() hack to take exact args PASS!\n",
    "from wurlitzer import sys_pipes\n",
    "\n",
    "with sys_pipes():\n",
    "    bo0.write(bo0_data,0)\n",
    "    bo1.write(bo1_data,0)\n",
    "    bo0.sync(pyxrt.xclBOSyncDirection.XCL_BO_SYNC_BO_TO_DEVICE, data_size, 0)\n",
    "    bo1.sync(pyxrt.xclBOSyncDirection.XCL_BO_SYNC_BO_TO_DEVICE, data_size, 0)\n",
    "    \n",
    "    run = simple(bo0, bo1, 0x10)\n",
    "    run.wait()"
   ]
  },
  {
   "cell_type": "code",
   "execution_count": null,
   "metadata": {},
   "outputs": [],
   "source": [
    "bo0.sync(pyxrt.xclBOSyncDirection.XCL_BO_SYNC_BO_FROM_DEVICE, data_size, 0)\n",
    "bo0.read(4096,0)"
   ]
  },
  {
   "cell_type": "markdown",
   "metadata": {},
   "source": [
    "### scratch"
   ]
  },
  {
   "cell_type": "code",
   "execution_count": null,
   "metadata": {},
   "outputs": [],
   "source": [
    "# Running all binds\n",
    "from wurlitzer import sys_pipes\n",
    "\n",
    "with sys_pipes():\n",
    "    bo0.write2(bo0_data,0)\n",
    "    bo1.write2(bo1_data,0)\n",
    "    bo0.sync2(pyxrt.xclBOSyncDirection.XCL_BO_SYNC_BO_TO_DEVICE, data_size, 0)\n",
    "    bo1.sync2(pyxrt.xclBOSyncDirection.XCL_BO_SYNC_BO_TO_DEVICE, data_size, 0)\n",
    "    \n",
    "    args = bo0, bo1, 0x10\n",
    "    run = simple(*(bo0, bo1, 0x10))\n",
    "    run.wait()\n",
    "    \n",
    "    #pyxrt.partial_app(d, uuid, simple, bo0, bo1)"
   ]
  },
  {
   "cell_type": "code",
   "execution_count": null,
   "metadata": {},
   "outputs": [],
   "source": [
    "# Using the partial function\n",
    "from wurlitzer import sys_pipes\n",
    "\n",
    "with sys_pipes():\n",
    "    bo0.write2(bo0_data,0)\n",
    "    bo1.write2(bo1_data,0)\n",
    "    bo0.sync2(pyxrt.xclBOSyncDirection.XCL_BO_SYNC_BO_TO_DEVICE, data_size, 0)\n",
    "    bo1.sync2(pyxrt.xclBOSyncDirection.XCL_BO_SYNC_BO_TO_DEVICE, data_size, 0)\n",
    "    \n",
    "    #args = bo0, bo1, 0x10\n",
    "    #run = simple(*args)\n",
    "    # run.start()\n",
    "    #run.wait()\n",
    "    \n",
    "    pyxrt.partial_app(d, uuid, simple, bo0, bo1)"
   ]
  },
  {
   "cell_type": "code",
   "execution_count": null,
   "metadata": {},
   "outputs": [],
   "source": []
  },
  {
   "cell_type": "code",
   "execution_count": null,
   "metadata": {},
   "outputs": [],
   "source": [
    "args = bo0, bo1, 0x10\n",
    "type(*args)"
   ]
  },
  {
   "cell_type": "code",
   "execution_count": null,
   "metadata": {},
   "outputs": [],
   "source": [
    "import pyxrt\n",
    "\n",
    "pyxrt.xclProbe()\n",
    "d = pyxrt.device(0)\n",
    "\n",
    "xclbin = './kernel.hw_emu.xclbin'\n",
    "uuid = d.load_xclbin(xclbin)\n",
    "\n",
    "simple = pyxrt.kernel(d, uuid.get(), \"simple\", False)\n",
    "\n",
    "bo0 = pyxrt.bo(d, data_size, pyxrt.XCL_BO_FLAGS_NONE, simple.group_id(0))\n",
    "bo1 = pyxrt.bo(d, data_size, pyxrt.XCL_BO_FLAGS_NONE, simple.group_id(1))"
   ]
  },
  {
   "cell_type": "code",
   "execution_count": null,
   "metadata": {},
   "outputs": [],
   "source": [
    "# from wurlitzer import sys_pipes\n",
    "# \n",
    "# with sys_pipes():\n",
    "#     bo0.write(bo0_data,0)\n",
    "#     bo1.write(bo1_data,0)"
   ]
  },
  {
   "cell_type": "code",
   "execution_count": null,
   "metadata": {},
   "outputs": [],
   "source": [
    "from wurlitzer import sys_pipes\n",
    "\n",
    "with sys_pipes():\n",
    "    bo0.write2(bo0_data,0)\n",
    "    bo1.write2(bo1_data,0)"
   ]
  },
  {
   "cell_type": "code",
   "execution_count": null,
   "metadata": {},
   "outputs": [],
   "source": [
    "with sys_pipes():\n",
    "    bo0.sync2(pyxrt.xclBOSyncDirection.XCL_BO_SYNC_BO_TO_DEVICE, data_size, 0)\n",
    "    bo1.sync2(pyxrt.xclBOSyncDirection.XCL_BO_SYNC_BO_TO_DEVICE, data_size, 0)\n",
    "\n",
    "    run = simple(bo0, bo1, 0x10)\n",
    "    run.wait()\n",
    "\n",
    "    bo0.sync2(pyxrt.xclBOSyncDirection.XCL_BO_SYNC_BO_FROM_DEVICE, data_size, 0)"
   ]
  },
  {
   "cell_type": "code",
   "execution_count": null,
   "metadata": {},
   "outputs": [],
   "source": [
    "bo0.read2(data_size, 0)"
   ]
  },
  {
   "cell_type": "code",
   "execution_count": null,
   "metadata": {},
   "outputs": [],
   "source": [
    "pyxrt.add_arrays(bo0_data, bo1_data)"
   ]
  },
  {
   "cell_type": "code",
   "execution_count": null,
   "metadata": {},
   "outputs": [],
   "source": [
    "a = np.array(0, 'f8')\n",
    "type(a)"
   ]
  },
  {
   "cell_type": "code",
   "execution_count": null,
   "metadata": {},
   "outputs": [],
   "source": [
    "bo0_readback = np.frombuffer(bo0.read2(data_size, 0), dtype=np.dtype('>i4'))\n",
    "bo1_readback = np.frombuffer(bo1.read2(data_size, 0), dtype=np.dtype('>i4'))\n",
    "print(list(bo0_readback[:10]))\n",
    "print(list(bo1_readback[:10]))"
   ]
  },
  {
   "cell_type": "code",
   "execution_count": null,
   "metadata": {},
   "outputs": [],
   "source": [
    "bo0.read2(data_size, 0)\n",
    "bo1.read2(data_size, 0)"
   ]
  },
  {
   "cell_type": "code",
   "execution_count": null,
   "metadata": {},
   "outputs": [],
   "source": [
    "x = bo0.read2(data_size, 0)\n",
    "x"
   ]
  },
  {
   "cell_type": "code",
   "execution_count": null,
   "metadata": {},
   "outputs": [],
   "source": [
    "# buffer object attempt\n",
    "bo0_buf = np.array(bo0, copy=False)\n",
    "bo0_buf.fill(1)\n",
    "bo0_buf"
   ]
  },
  {
   "cell_type": "code",
   "execution_count": null,
   "metadata": {},
   "outputs": [],
   "source": [
    "# buffer object attempt\n",
    "bo1_buf = np.array(bo1, copy=False)\n",
    "bo1_buf.fill(5)\n",
    "bo1_buf"
   ]
  },
  {
   "cell_type": "code",
   "execution_count": null,
   "metadata": {},
   "outputs": [],
   "source": [
    "bo2_buf = np.array(bo0, copy=False)\n",
    "bo2_buf"
   ]
  },
  {
   "cell_type": "code",
   "execution_count": null,
   "metadata": {},
   "outputs": [],
   "source": [
    "bo0_map = bo0.map(data_size)\n",
    "bo1_map = bo1.map(data_size)"
   ]
  },
  {
   "cell_type": "code",
   "execution_count": null,
   "metadata": {},
   "outputs": [],
   "source": [
    "bo0_map.fill(1)\n",
    "bo1_map.fill(5)"
   ]
  },
  {
   "cell_type": "code",
   "execution_count": null,
   "metadata": {
    "scrolled": true
   },
   "outputs": [],
   "source": [
    "print(list(bo0_map.astype(np.dtype('>i4'))))\n",
    "print(list(bo1_map.astype(np.dtype('>i4'))))"
   ]
  },
  {
   "cell_type": "code",
   "execution_count": null,
   "metadata": {},
   "outputs": [],
   "source": [
    "bo0_map2 = bo0.map(data_size)\n",
    "bo0_map3 = bo0.map(data_size)\n",
    "bo0_map4 = bo0.map(data_size)\n",
    "bo0_map5 = bo0.map(data_size)"
   ]
  },
  {
   "cell_type": "code",
   "execution_count": null,
   "metadata": {},
   "outputs": [],
   "source": [
    "\n",
    "print(list(bo0_map2.astype(np.dtype('>i4')))[:10])\n",
    "print(list(bo0_map3.astype(np.dtype('>i4')))[:10])\n",
    "print(list(bo0_map4.astype(np.dtype('>i4')))[:10])\n",
    "print(list(bo0_map5.astype(np.dtype('>i4')))[:10])"
   ]
  },
  {
   "cell_type": "code",
   "execution_count": null,
   "metadata": {},
   "outputs": [],
   "source": [
    "def getpointer(a):\n",
    "    pointer, read_only_flag = a.__array_interface__['data']\n",
    "    return(pointer)\n",
    "\n",
    "for p in [bo0_map2,bo0_map3,bo0_map4,bo0_map5]:\n",
    "    print(f'{getpointer(p)} {p[0]}')"
   ]
  },
  {
   "cell_type": "code",
   "execution_count": null,
   "metadata": {},
   "outputs": [],
   "source": [
    "bo0_map2[1] == bo0_map[1]"
   ]
  },
  {
   "cell_type": "code",
   "execution_count": null,
   "metadata": {},
   "outputs": [],
   "source": [
    "print(list(bo0_map.astype(np.dtype('>i4')))[:10])\n",
    "print(list(bo0_map2.astype(np.dtype('>i4')))[:10])\n",
    "print(list(bo0_map3.astype(np.dtype('>i4')))[:10])"
   ]
  },
  {
   "cell_type": "code",
   "execution_count": null,
   "metadata": {},
   "outputs": [],
   "source": [
    "bo0_map3"
   ]
  },
  {
   "cell_type": "code",
   "execution_count": null,
   "metadata": {},
   "outputs": [],
   "source": [
    "bo0_map2"
   ]
  },
  {
   "cell_type": "code",
   "execution_count": null,
   "metadata": {},
   "outputs": [],
   "source": [
    "bo0_map"
   ]
  },
  {
   "cell_type": "code",
   "execution_count": null,
   "metadata": {},
   "outputs": [],
   "source": [
    "bo0.write(bo0_data,0)\n",
    "bo1.write(bo1_data,0)"
   ]
  },
  {
   "cell_type": "code",
   "execution_count": null,
   "metadata": {},
   "outputs": [],
   "source": [
    "bo0_readback = np.frombuffer(bo0.read(data_size, 0), dtype=np.dtype('>i4'))\n",
    "bo1_readback = np.frombuffer(bo1.read(data_size, 0), dtype=np.dtype('>i4'))\n",
    "print(list(bo0_readback[:10]))\n",
    "print(list(bo1_readback[:10]))"
   ]
  },
  {
   "cell_type": "code",
   "execution_count": null,
   "metadata": {},
   "outputs": [],
   "source": [
    "pointer, read_only_flag = bo0_map.__array_interface__['data']\n",
    "pointer"
   ]
  },
  {
   "cell_type": "code",
   "execution_count": null,
   "metadata": {
    "scrolled": false
   },
   "outputs": [],
   "source": [
    "foo = 0x10\n",
    "        \n",
    "expected = [i+i*foo for i in range(1024)]\n",
    "print(expected[:10])"
   ]
  },
  {
   "cell_type": "code",
   "execution_count": null,
   "metadata": {},
   "outputs": [],
   "source": [
    "bo0_readback2 = np.frombuffer(bo0.read(data_size, 0), dtype=np.dtype('>i4'))\n",
    "bo1_readback2 = np.frombuffer(bo1.read(data_size, 0), dtype=np.dtype('>i4'))\n",
    "print(list(bo0_readback2[:10]))\n",
    "print(list(bo1_readback2[:10]))"
   ]
  },
  {
   "cell_type": "code",
   "execution_count": null,
   "metadata": {},
   "outputs": [],
   "source": [
    "bo0.sync(pyxrt.xclBOSyncDirection.XCL_BO_SYNC_BO_FROM_DEVICE, data_size, 0)\n",
    "bo1.sync(pyxrt.xclBOSyncDirection.XCL_BO_SYNC_BO_FROM_DEVICE, data_size, 0)\n",
    "\n",
    "print(list(bo0_map.astype(np.dtype('>i4'))))\n",
    "print(list(bo1_map.astype(np.dtype('>i4'))))"
   ]
  },
  {
   "cell_type": "code",
   "execution_count": null,
   "metadata": {},
   "outputs": [],
   "source": [
    "from wurlitzer import sys_pipes\n",
    "\n",
    "with sys_pipes():\n",
    "    bo0.sync(pyxrt.xclBOSyncDirection.XCL_BO_SYNC_BO_TO_DEVICE, data_size, 0)\n",
    "    bo1.sync(pyxrt.xclBOSyncDirection.XCL_BO_SYNC_BO_TO_DEVICE, data_size, 0)\n"
   ]
  },
  {
   "cell_type": "code",
   "execution_count": null,
   "metadata": {},
   "outputs": [],
   "source": [
    "from wurlitzer import sys_pipes\n",
    "\n",
    "with sys_pipes():\n",
    "    run = simple(bo0, bo1, 0x10)\n",
    "    run.wait()"
   ]
  },
  {
   "cell_type": "code",
   "execution_count": null,
   "metadata": {},
   "outputs": [],
   "source": [
    "with sys_pipes():\n",
    "    bo0.sync(pyxrt.xclBOSyncDirection.XCL_BO_SYNC_BO_FROM_DEVICE, data_size, 0)"
   ]
  },
  {
   "cell_type": "code",
   "execution_count": null,
   "metadata": {},
   "outputs": [],
   "source": [
    "bo0_readback = np.frombuffer(bo0.read(data_size, 0), dtype=np.dtype('>i4'))\n",
    "list(bo0_readback)"
   ]
  },
  {
   "cell_type": "code",
   "execution_count": null,
   "metadata": {},
   "outputs": [],
   "source": [
    "del bo0\n",
    "del bo1\n",
    "del simple\n",
    "del d"
   ]
  },
  {
   "cell_type": "code",
   "execution_count": null,
   "metadata": {},
   "outputs": [],
   "source": [
    "import numpy as np\n",
    "print(np.dtype('>i4').itemsize)"
   ]
  },
  {
   "cell_type": "code",
   "execution_count": null,
   "metadata": {},
   "outputs": [],
   "source": [
    "import os\n",
    "import pyxrt\n",
    "os.path.abspath(pyxrt.__file__)"
   ]
  },
  {
   "cell_type": "code",
   "execution_count": null,
   "metadata": {},
   "outputs": [],
   "source": []
  }
 ],
 "metadata": {
  "kernelspec": {
   "display_name": "Python 3",
   "language": "python",
   "name": "python3"
  },
  "language_info": {
   "codemirror_mode": {
    "name": "ipython",
    "version": 3
   },
   "file_extension": ".py",
   "mimetype": "text/x-python",
   "name": "python",
   "nbconvert_exporter": "python",
   "pygments_lexer": "ipython3",
   "version": "3.6.7"
  }
 },
 "nbformat": 4,
 "nbformat_minor": 2
}
